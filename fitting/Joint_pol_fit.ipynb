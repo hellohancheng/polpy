{
 "cells": [
  {
   "cell_type": "code",
   "execution_count": null,
   "metadata": {},
   "outputs": [],
   "source": [
    "import warnings\n",
    "warnings.simplefilter(\"ignore\")\n",
    "import matplotlib.pyplot as plt\n",
    "import numpy as np\n",
    "import os\n",
    "\n",
    "np.seterr(all=\"ignore\")\n",
    "\n",
    "from threeML import *\n",
    "silence_warnings()\n",
    "%matplotlib inline\n",
    "set_threeML_style()"
   ]
  },
  {
   "cell_type": "code",
   "execution_count": null,
   "metadata": {},
   "outputs": [],
   "source": [
    "# reading polarization data from AstroSat CZTI and creating polarization plugin\n",
    "trigger_time_CZTI = 296907549.24\n",
    "\n",
    "czti_polarization_ts = TimeSeriesBuilder.from_polarization(name='czti_pol', polevents='/home/polpy/polpy_test/polpy/fitting/cztipol_GRB190530A.pevt',\n",
    "                                              polrsp='/home/polpy/polpy_test/polpy/fitting/CZTI_POLRSP_EMIN_110_EMAX_1000.prsp',specrsp=None,\n",
    "                                               trigger_time=trigger_time_CZTI)\n",
    "\n",
    "czti_polarization_ts.set_background_interval(\"-350.--150.\",\"150.-350.\")\n",
    "czti_polarization_ts.set_active_time_interval('0-26.9')\n",
    "czti_data = czti_polarization_ts.to_polarizationlike()\n",
    "\n",
    "#effective area correction\n",
    "#czti_data.fix_effective_area_correction(2.0)\n",
    "czti_data.use_effective_area_correction(0.1,300.0)"
   ]
  },
  {
   "cell_type": "code",
   "execution_count": null,
   "metadata": {},
   "outputs": [],
   "source": [
    "trigger_time_POLAR = 1484431269.5000\n",
    "\n",
    "# spectral\n",
    "polar = TimeSeriesBuilder.from_pol_spectrum('polar_spec', polevents='polpy_test/polpy/data/POLAR_170114A.pevt', specrsp='polpy_test/polpy/data/POLAR_170114A.rmfarf',\n",
    "                                            trigger_time=trigger_time_POLAR)\n",
    "\n",
    "\n",
    "#threeML_config['lightcurve']['lightcurve color'] = '#07AE44'\n",
    "polar.set_active_time_interval('-0.2-8.9')\n",
    "polar.set_background_interval('-35--10','25-75')\n",
    "polar.create_time_bins(start=-30.0, stop=30.0, method='constant', dt=0.1)\n",
    "\n",
    "polar_spec = polar.to_spectrumlike()\n",
    "polar_spec.set_active_measurements('30-750')\n",
    "\n",
    "polar_spec.use_effective_area_correction(0.7, 1.3)\n",
    "\n",
    "# polarisation \n",
    "polar_polarization_ts = TimeSeriesBuilder.from_polarization('polar_pol', polevents='polpy_test/polpy/data/POLAR_170114A.pevt', polrsp='polpy_test/polpy/data/POLAR_170114A.prsp', trigger_time=trigger_time)\n",
    "\n",
    "\n",
    "polar_polarization_ts.set_background_interval('-35--10','25-75')\n",
    "polar_polarization_ts.set_active_time_interval('-0.2-8.9')\n",
    "polar_data = polar_polarization_ts.to_polarizationlike()\n",
    "\n",
    "polar_data.use_effective_area_correction(0.7, 1.5)"
   ]
  },
  {
   "cell_type": "code",
   "execution_count": null,
   "metadata": {},
   "outputs": [],
   "source": [
    "# reading spectrum data from Fermi GBM and creating spectrum plugin\n",
    "gbm_cat = FermiGBMBurstCatalog()\n",
    "gbm_cat.query_sources('GRB190530430')\n",
    "grb_info = gbm_cat.get_detector_information()[\"GRB190530430\"]\n",
    "gbm_detectors = grb_info[\"detectors\"]\n",
    "source_interval = grb_info[\"source\"][\"fluence\"]\n",
    "background_interval = grb_info[\"background\"][\"full\"]\n",
    "best_fit_model = grb_info[\"best fit model\"][\"fluence\"]"
   ]
  },
  {
   "cell_type": "code",
   "execution_count": null,
   "metadata": {},
   "outputs": [],
   "source": [
    "fluence_plugins = []\n",
    "time_series = {}\n",
    "#print(best_fit_model, \"\\n\", source_interval, \"\\n\", model.display())\n",
    "for det in gbm_detectors:\n",
    "\n",
    "    ts_cspec = TimeSeriesBuilder.from_gbm_cspec_or_ctime(det, cspec_or_ctime_file=dload[det][\"cspec\"], rsp_file=dload[det][\"rsp\"])\n",
    "\n",
    "    ts_cspec.set_background_interval(*background_interval.split(\",\"))\n",
    "    ts_cspec.save_background(f\"{det}_bkg.h5\", overwrite=True)\n",
    "\n",
    "    ts_tte = TimeSeriesBuilder.from_gbm_tte(\n",
    "        det,\n",
    "        tte_file=dload[det][\"tte\"],\n",
    "        rsp_file=dload[det][\"rsp\"],\n",
    "        restore_background=f\"{det}_bkg.h5\",\n",
    "    )\n",
    "\n",
    "    time_series[det] = ts_tte\n",
    "\n",
    "    ts_tte.set_active_time_interval(source_interval)\n",
    "\n",
    "    ts_tte.view_lightcurve(-40, 160)\n",
    "\n",
    "    fluence_plugin = ts_tte.to_spectrumlike()\n",
    "\n",
    "    if det.startswith(\"b\"):\n",
    "\n",
    "        fluence_plugin.set_active_measurements(\"250-30000\")\n",
    "\n",
    "    else:\n",
    "\n",
    "        fluence_plugin.set_active_measurements(\"9-900\")\n",
    "\n",
    "    fluence_plugin.rebin_on_background(1.0)\n",
    "\n",
    "    fluence_plugins.append(fluence_plugin)"
   ]
  },
  {
   "cell_type": "code",
   "execution_count": null,
   "metadata": {},
   "outputs": [],
   "source": [
    "#setting up spectrum model\n",
    "band = Band()\n",
    "\n",
    "band.xp.prior = Log_normal(mu=np.log(147),sigma=np.log(100))\n",
    "band.xp.bounds = (None, None)\n",
    "\n",
    "band.K.bounds = (1E-10, None)\n",
    "band.K.prior = Log_uniform_prior(lower_bound=1E-5, upper_bound=1E2)\n",
    "\n",
    "band.alpha.bounds = (-1.5, 1.0)\n",
    "band.alpha.prior = Truncated_gaussian(mu=-0.29, sigma=0.5, lower_bound=-1.5, upper_bound=1.0)\n",
    "\n",
    "band.beta.bounds = (None, -1.5)\n",
    "band.beta.prior = Truncated_gaussian(mu=-2.8,sigma=0.6, lower_bound=-7, upper_bound=-1.5)\n",
    "\n",
    "#settting up polarization model\n",
    "lp = LinearPolarization(60,16.91)\n",
    "lp.angle.set_uninformative_prior(Uniform_prior)\n",
    "lp.degree.prior = Uniform_prior(lower_bound=0.1, upper_bound=100.0)\n",
    "lp.degree.value=60.\n",
    "lp.angle.value=16.91\n",
    "\n",
    "#adding both component and defining the point source\n",
    "sc =SpectralComponent('synch', band, lp)\n",
    "ps = PointSource('GRB190530A',0,0, components = [sc])\n"
   ]
  },
  {
   "cell_type": "code",
   "execution_count": null,
   "metadata": {},
   "outputs": [],
   "source": [
    "combined_model = Model(ps)\n",
    "datalist = DataList(*fluence_plugins,polar_spec,czti_data,polar_data)"
   ]
  },
  {
   "cell_type": "code",
   "execution_count": null,
   "metadata": {},
   "outputs": [],
   "source": [
    "# Setting up sampler and running bayes\n",
    "\n",
    "bayes = BayesianAnalysis(combined_model,datalist)\n",
    "bayes.set_sampler(\"multinest\")\n",
    "# wrapped = [0] * len(combined_model.free_parameters)\n",
    "# wrapped[3] = 1\n",
    "bayes.sampler.setup(n_live_points=400)#,\n",
    "                        #    resume = False,\n",
    "                        #    importance_nested_sampling=False,\n",
    "                        #    verbose=True,\n",
    "                        #    wrapped_params=wrapped,\n",
    "                        #    chain_name='chains/synch_p2')\n",
    "bayes.sample()"
   ]
  },
  {
   "cell_type": "code",
   "execution_count": null,
   "metadata": {},
   "outputs": [],
   "source": [
    "bayes.results.write_to(\"AstroSat_CZTI_polarization_results_GRB190530A.fits\", overwrite=True)\n",
    "bayes.restore_median_fit()\n",
    "\n",
    "#plotting the results\n",
    "fig = display_spectrum_model_counts(bayes)\n",
    "fig.savefig(\"count_spec.pdf\", bbox_inches=\"tight\")\n"
   ]
  },
  {
   "cell_type": "code",
   "execution_count": null,
   "metadata": {},
   "outputs": [],
   "source": [
    "#display everthing in bayes.results\n",
    "bayes.results.display()\n",
    "cornerplot = bayes.results.corner_plot()"
   ]
  },
  {
   "cell_type": "code",
   "execution_count": null,
   "metadata": {},
   "outputs": [],
   "source": [
    "modulationcurve_CZTI = czti_data.display(show_model=True)"
   ]
  },
  {
   "cell_type": "code",
   "execution_count": null,
   "metadata": {},
   "outputs": [],
   "source": [
    "modulationcurve_POLAR = polar_data.display(show_model=True)"
   ]
  }
 ],
 "metadata": {
  "language_info": {
   "name": "python"
  }
 },
 "nbformat": 4,
 "nbformat_minor": 2
}
