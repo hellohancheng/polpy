{
 "cells": [
  {
   "cell_type": "code",
   "execution_count": 1,
   "metadata": {},
   "outputs": [],
   "source": [
    "%matplotlib tk\n",
    "\n",
    "from pathlib import Path\n",
    "import numpy as np\n",
    "import matplotlib.pyplot as plt\n",
    "\n",
    "from astropy.io import fits\n",
    "from scipy.integrate import simpson\n",
    "from scipy.interpolate import interp1d"
   ]
  },
  {
   "cell_type": "code",
   "execution_count": 2,
   "metadata": {},
   "outputs": [],
   "source": [
    "def band_photspec(E, norm, Epeak, alpha, beta):\n",
    "    E0 = Epeak / (2 + alpha)\n",
    "\n",
    "    fE = np.zeros(E.size)\n",
    "\n",
    "    mask = E < (alpha - beta) * E0\n",
    "    fE[mask] = norm * (E[mask] / 100)**alpha * np.exp(-(E[mask] / E0))\n",
    "    fE[~mask] = norm * ((alpha - beta) * E0 / 100)**(alpha - beta) * np.exp(beta - alpha) * (E[~mask]/100)**beta\n",
    "\n",
    "    return fE"
   ]
  },
  {
   "cell_type": "code",
   "execution_count": 7,
   "metadata": {},
   "outputs": [
    {
     "name": "stdout",
     "output_type": "stream",
     "text": [
      "0.09284100542119646 -1.0465341284127343 -2.512910233357348 125.67465644232729\n"
     ]
    },
    {
     "data": {
      "text/plain": [
       "<matplotlib.legend.Legend at 0x75be77cc8430>"
      ]
     },
     "execution_count": 7,
     "metadata": {},
     "output_type": "execute_result"
    }
   ],
   "source": [
    "# grbname\n",
    "grbname = \"GRB180120A\"\n",
    "\n",
    "# read data and response\n",
    "hist1 = np.loadtxt(f\"/home/sujay/local/data/3ml-test/czti_pol_fit_verification/source_hist_{grbname:s}.txt\", delimiter=',')\n",
    "hist2 = np.loadtxt(\"/home/sujay/local/data/3ml-test/czti_pol_fit_verification/source_hist_GRB180427A.txt\", delimiter=',')\n",
    "hist3 = np.loadtxt(\"/home/sujay/local/data/3ml-test/czti_pol_fit_verification/source_hist_GRB190530A.txt\", delimiter=',')\n",
    "\n",
    "rspHDU = fits.open(f\"/home/sujay/local/data/3ml-test/czti_pol_fit_verification/CZTI_POLRSP_{grbname:s}.prsp\")\n",
    "\n",
    "# pol and spectral params\n",
    "fit_paramHDU = fits.open(f\"/home/sujay/local/data/3ml-test/czti_pol_fit_verification/AstroSat_CZTI_polarization_results_{grbname:s}.fits\")\n",
    "norm = fit_paramHDU[1].data['Value'][0]\n",
    "alpha = fit_paramHDU[1].data['Value'][1]\n",
    "epeak = fit_paramHDU[1].data['Value'][2]\n",
    "beta = fit_paramHDU[1].data['Value'][3]\n",
    "t90 = 26.9\n",
    "print(norm, alpha, beta, epeak)\n",
    "\n",
    "esim = ((rspHDU[1].data['ENERG_LO'] + rspHDU[1].data['ENERG_HI']) / 2)\n",
    "pasim = rspHDU[2].data['PA_IN']\n",
    "pol_matrix = rspHDU[4].data.T\n",
    "unpol_matrix = rspHDU[5].data.T\n",
    "\n",
    "# convolve with GRB spectrum\n",
    "weights = band_photspec(esim, norm, epeak, alpha, beta)  # ph/s/cm2/keV\n",
    "pol_hist_grb_scaled = simpson(pol_matrix * weights[:, None, None], esim, axis=0) # cnt/s\n",
    "unpol_hist_grb_scaled = simpson(unpol_matrix * weights[:, None], esim, axis=0) # cnt/s\n",
    "pa = fit_paramHDU[1].data['Value'][5]\n",
    "pf = fit_paramHDU[1].data['Value'][4]/100\n",
    "\n",
    "pol_hist_interp_scaled = interp1d(pasim, pol_hist_grb_scaled, axis=0, kind='cubic', fill_value='extrapolate')\n",
    "pol_hist_grb_scaled_val = pol_hist_interp_scaled(pa)\n",
    "\n",
    "hist_model_scaled = pol_hist_grb_scaled_val * pf + (1 - pf)*unpol_hist_grb_scaled\n",
    "\n",
    "# read direct band sim histograms\n",
    "direct_hist_path = Path(f\"/home/sujay/local/data/3ml-test/czti_pol_fit_verification/old_pipeline_mu_0_100/{grbname:s}/\")\n",
    "\n",
    "unpol_hist_grb_direct = np.loadtxt(direct_hist_path.joinpath(f\"unpol/hist_EventFileSimul{grbname[:-1]:s}_mass.txt.ver2.dat_100_600_thr_20.txt\"))\n",
    "pol_hist_grb_direct = np.zeros((18, 8))\n",
    "\n",
    "for i, fname in enumerate(sorted(direct_hist_path.glob(\"*.txt\"))[:-1]):\n",
    "    pol_hist_grb_direct[i, :] = np.loadtxt(fname)\n",
    "    \n",
    "\n",
    "pol_hist_interp_direct = interp1d(pasim, pol_hist_grb_scaled, axis=0, kind='cubic', fill_value='extrapolate')\n",
    "pol_hist_grb_direct_val = pol_hist_interp_scaled(pa)\n",
    "hist_model_direct = pol_hist_grb_direct_val * pf + (1 - pf)*unpol_hist_grb_direct\n",
    "\n",
    "# plot scaled and unscaled\n",
    "scat_bins = np.arange(0, 360, 45)\n",
    "fig, ax = plt.subplots(1, 1, figsize=(8, 6))\n",
    "ax.plot(scat_bins, unpol_hist_grb_direct/unpol_hist_grb_direct.mean(), ds=\"steps-mid\", label=\"Direct\")\n",
    "ax.plot(scat_bins, unpol_hist_grb_scaled/unpol_hist_grb_scaled.mean(), ds=\"steps-mid\", label=\"Scaled\")\n",
    "ax.legend()\n",
    "fig.suptitle(\"Unpolarized histogram comparison\")\n",
    "\n",
    "fig, ax = plt.subplots(1, 1, figsize=(8, 6))\n",
    "ax.errorbar(scat_bins, hist1[:, 1]/hist1[:, 1].mean(), yerr = hist1[:, 2]/hist1[:, 1].mean(), fmt='o', label=f\"{grbname:s}, $\\\\theta = 15.89^\\circ$\")\n",
    "#ax.errorbar(scat_bins, hist2[:, 1]/hist2[:, 1].mean(), yerr = hist2[:, 2]/hist2[:, 1].mean(), fmt='o', label='GRB108427A, $\\\\theta = 40.81^\\circ$')\n",
    "#ax.errorbar(scat_bins, hist3[:, 1]/hist3[:, 1].mean(), yerr = hist3[:, 2]/hist3[:, 1].mean(), fmt='o', label='GRB190530A, $\\\\theta = 154.5^\\circ$')\n",
    "plt.legend()\n",
    "ax.plot(scat_bins, hist_model_scaled/hist_model_scaled.mean(), ds='steps-mid', label=\"Scaled\")\n",
    "ax.plot(scat_bins, hist_model_direct/hist_model_direct.mean(), ds='steps-mid', label=\"Direct\")\n",
    "ax.legend()"
   ]
  },
  {
   "cell_type": "code",
   "execution_count": 8,
   "metadata": {},
   "outputs": [
    {
     "data": {
      "text/plain": [
       "<matplotlib.legend.Legend at 0x75be77cc8d90>"
      ]
     },
     "execution_count": 8,
     "metadata": {},
     "output_type": "execute_result"
    }
   ],
   "source": [
    "fig, ax = plt.subplots(1, 1, figsize=(8, 6))\n",
    "ax.errorbar(scat_bins, hist1[:, 1]/hist1[:, 1].mean(), yerr = hist1[:, 2]/hist1[:, 1].mean(), fmt='o', label=f\"{grbname:s}, $\\\\theta = 15.89^\\circ$\")\n",
    "ax.errorbar(scat_bins, hist2[:, 1]/hist2[:, 1].mean(), yerr = hist2[:, 2]/hist2[:, 1].mean(), fmt='o', label='GRB108427A, $\\\\theta = 40.81^\\circ$')\n",
    "ax.errorbar(scat_bins, hist3[:, 1]/hist3[:, 1].mean(), yerr = hist3[:, 2]/hist3[:, 1].mean(), fmt='o', label='GRB190530A, $\\\\theta = 154.5^\\circ$')\n",
    "plt.legend()"
   ]
  },
  {
   "cell_type": "code",
   "execution_count": null,
   "metadata": {},
   "outputs": [],
   "source": []
  }
 ],
 "metadata": {
  "kernelspec": {
   "display_name": "threeml",
   "language": "python",
   "name": "python3"
  },
  "language_info": {
   "codemirror_mode": {
    "name": "ipython",
    "version": 3
   },
   "file_extension": ".py",
   "mimetype": "text/x-python",
   "name": "python",
   "nbconvert_exporter": "python",
   "pygments_lexer": "ipython3",
   "version": "3.10.12"
  }
 },
 "nbformat": 4,
 "nbformat_minor": 2
}
