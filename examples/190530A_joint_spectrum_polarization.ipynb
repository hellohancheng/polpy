{
 "cells": [
  {
   "cell_type": "code",
   "execution_count": null,
   "metadata": {},
   "outputs": [
    {
     "ename": "",
     "evalue": "",
     "output_type": "error",
     "traceback": [
      "\u001b[1;31mFailed to start the Kernel. \n",
      "\u001b[1;31mFileNotFoundError: [Errno 2] No such file or directory: 'polpy_test/polpy/examples/AstroSat_CZTI_polarization_results_GRB190530A.fits'. \n",
      "\u001b[1;31mView Jupyter <a href='command:jupyter.viewOutput'>log</a> for further details."
     ]
    }
   ],
   "source": [
    "import warnings\n",
    "warnings.simplefilter(\"ignore\")\n",
    "import matplotlib.pyplot as plt\n",
    "import numpy as np\n",
    "import os\n",
    "\n",
    "np.seterr(all=\"ignore\")\n",
    "\n",
    "from threeML import *\n",
    "from threeML.utils.data_builders import TimeSeriesBuilder\n",
    "silence_warnings()\n",
    "%matplotlib inline\n",
    "set_threeML_style()"
   ]
  },
  {
   "cell_type": "code",
   "execution_count": null,
   "metadata": {},
   "outputs": [
    {
     "ename": "",
     "evalue": "",
     "output_type": "error",
     "traceback": [
      "\u001b[1;31mFailed to start the Kernel. \n",
      "\u001b[1;31mFileNotFoundError: [Errno 2] No such file or directory: 'polpy_test/polpy/examples/AstroSat_CZTI_polarization_results_GRB190530A.fits'. \n",
      "\u001b[1;31mView Jupyter <a href='command:jupyter.viewOutput'>log</a> for further details."
     ]
    }
   ],
   "source": [
    "# reading polarization data from AstroSat CZTI and creating polarization plugin\n",
    "trigger_time = 296907549.24\n",
    "\n",
    "czti_polarization_ts = TimeSeriesBuilder.from_pol_polarization(name='czti_pol', polevents='/home/polpy/polpy_test/polpy/examples/cztipol_GRB190530A.pevt',specrsp =None,\n",
    "                                              polrsp='/home/polpy/polpy_test/polpy/examples/CZTI_POLRSP_EMIN_110_EMAX_1000.prsp',\n",
    "                                               trigger_time=trigger_time)\n",
    "\n",
    "czti_polarization_ts.set_background_interval(\"-350.--150.\",\"150.-350.\")\n",
    "czti_polarization_ts.set_active_time_interval('0-26.9')\n",
    "czti_data = czti_polarization_ts.to_polarizationlike()"
   ]
  },
  {
   "cell_type": "code",
   "execution_count": null,
   "metadata": {},
   "outputs": [
    {
     "ename": "",
     "evalue": "",
     "output_type": "error",
     "traceback": [
      "\u001b[1;31mFailed to start the Kernel. \n",
      "\u001b[1;31mFileNotFoundError: [Errno 2] No such file or directory: 'polpy_test/polpy/examples/AstroSat_CZTI_polarization_results_GRB190530A.fits'. \n",
      "\u001b[1;31mView Jupyter <a href='command:jupyter.viewOutput'>log</a> for further details."
     ]
    }
   ],
   "source": [
    "#effective area correction\n",
    "#czti_data.fix_effective_area_correction(2.0)\n",
    "czti_data.use_effective_area_correction(0.1,300.0)"
   ]
  },
  {
   "cell_type": "code",
   "execution_count": null,
   "metadata": {},
   "outputs": [
    {
     "ename": "",
     "evalue": "",
     "output_type": "error",
     "traceback": [
      "\u001b[1;31mFailed to start the Kernel. \n",
      "\u001b[1;31mFileNotFoundError: [Errno 2] No such file or directory: 'polpy_test/polpy/examples/AstroSat_CZTI_polarization_results_GRB190530A.fits'. \n",
      "\u001b[1;31mView Jupyter <a href='command:jupyter.viewOutput'>log</a> for further details."
     ]
    }
   ],
   "source": [
    "# reading spectrum data from Fermi GBM and creating spectrum plugin\n",
    "gbm_cat = FermiGBMBurstCatalog()\n",
    "gbm_cat.query_sources('GRB190530430')\n",
    "grb_info = gbm_cat.get_detector_information()[\"GRB190530430\"]\n",
    "gbm_detectors = grb_info[\"detectors\"]\n",
    "source_interval = grb_info[\"source\"][\"fluence\"]\n",
    "background_interval = grb_info[\"background\"][\"full\"]\n",
    "best_fit_model = grb_info[\"best fit model\"][\"fluence\"]"
   ]
  },
  {
   "cell_type": "code",
   "execution_count": null,
   "metadata": {},
   "outputs": [
    {
     "ename": "",
     "evalue": "",
     "output_type": "error",
     "traceback": [
      "\u001b[1;31mFailed to start the Kernel. \n",
      "\u001b[1;31mFileNotFoundError: [Errno 2] No such file or directory: 'polpy_test/polpy/examples/AstroSat_CZTI_polarization_results_GRB190530A.fits'. \n",
      "\u001b[1;31mView Jupyter <a href='command:jupyter.viewOutput'>log</a> for further details."
     ]
    }
   ],
   "source": [
    "print(source_interval,\"\\n\", background_interval, \"\\n\", gbm_detectors, \"\\n\", type(gbm_detectors))"
   ]
  },
  {
   "cell_type": "code",
   "execution_count": null,
   "metadata": {},
   "outputs": [
    {
     "ename": "",
     "evalue": "",
     "output_type": "error",
     "traceback": [
      "\u001b[1;31mFailed to start the Kernel. \n",
      "\u001b[1;31mFileNotFoundError: [Errno 2] No such file or directory: 'polpy_test/polpy/examples/AstroSat_CZTI_polarization_results_GRB190530A.fits'. \n",
      "\u001b[1;31mView Jupyter <a href='command:jupyter.viewOutput'>log</a> for further details."
     ]
    }
   ],
   "source": [
    "gbm_detectors = ['n0', 'n1', 'n2', 'b0'] #can add 'n3', 'n5'"
   ]
  },
  {
   "cell_type": "code",
   "execution_count": null,
   "metadata": {},
   "outputs": [
    {
     "ename": "",
     "evalue": "",
     "output_type": "error",
     "traceback": [
      "\u001b[1;31mFailed to start the Kernel. \n",
      "\u001b[1;31mFileNotFoundError: [Errno 2] No such file or directory: 'polpy_test/polpy/examples/AstroSat_CZTI_polarization_results_GRB190530A.fits'. \n",
      "\u001b[1;31mView Jupyter <a href='command:jupyter.viewOutput'>log</a> for further details."
     ]
    }
   ],
   "source": [
    "dload = download_GBM_trigger_data(\"GRB190530430\", detectors=gbm_detectors)"
   ]
  },
  {
   "cell_type": "code",
   "execution_count": null,
   "metadata": {},
   "outputs": [
    {
     "ename": "",
     "evalue": "",
     "output_type": "error",
     "traceback": [
      "\u001b[1;31mFailed to start the Kernel. \n",
      "\u001b[1;31mFileNotFoundError: [Errno 2] No such file or directory: 'polpy_test/polpy/examples/AstroSat_CZTI_polarization_results_GRB190530A.fits'. \n",
      "\u001b[1;31mView Jupyter <a href='command:jupyter.viewOutput'>log</a> for further details."
     ]
    }
   ],
   "source": [
    "fluence_plugins = []\n",
    "time_series = {}\n",
    "#print(best_fit_model, \"\\n\", source_interval, \"\\n\", model.display())\n",
    "for det in gbm_detectors:\n",
    "\n",
    "    ts_cspec = TimeSeriesBuilder.from_gbm_cspec_or_ctime(det, cspec_or_ctime_file=dload[det][\"cspec\"], rsp_file=dload[det][\"rsp\"])\n",
    "\n",
    "    ts_cspec.set_background_interval(*background_interval.split(\",\"))\n",
    "    ts_cspec.save_background(f\"{det}_bkg.h5\", overwrite=True)\n",
    "\n",
    "    ts_tte = TimeSeriesBuilder.from_gbm_tte(\n",
    "        det,\n",
    "        tte_file=dload[det][\"tte\"],\n",
    "        rsp_file=dload[det][\"rsp\"],\n",
    "        restore_background=f\"{det}_bkg.h5\",\n",
    "    )\n",
    "\n",
    "    time_series[det] = ts_tte\n",
    "\n",
    "    ts_tte.set_active_time_interval(source_interval)\n",
    "\n",
    "    ts_tte.view_lightcurve(-40, 160)\n",
    "\n",
    "    fluence_plugin = ts_tte.to_spectrumlike()\n",
    "\n",
    "    if det.startswith(\"b\"):\n",
    "\n",
    "        fluence_plugin.set_active_measurements(\"250-30000\")\n",
    "\n",
    "    else:\n",
    "\n",
    "        fluence_plugin.set_active_measurements(\"9-900\")\n",
    "\n",
    "    fluence_plugin.rebin_on_background(1.0)\n",
    "\n",
    "    fluence_plugins.append(fluence_plugin)"
   ]
  },
  {
   "cell_type": "code",
   "execution_count": null,
   "metadata": {},
   "outputs": [
    {
     "ename": "",
     "evalue": "",
     "output_type": "error",
     "traceback": [
      "\u001b[1;31mFailed to start the Kernel. \n",
      "\u001b[1;31mFileNotFoundError: [Errno 2] No such file or directory: 'polpy_test/polpy/examples/AstroSat_CZTI_polarization_results_GRB190530A.fits'. \n",
      "\u001b[1;31mView Jupyter <a href='command:jupyter.viewOutput'>log</a> for further details."
     ]
    }
   ],
   "source": [
    "#setting up spectrum model\n",
    "band = Band()\n",
    "\n",
    "band.xp.prior = Log_normal(mu=np.log(147),sigma=np.log(100))\n",
    "band.xp.bounds = (None, None)\n",
    "\n",
    "band.K.bounds = (1E-10, None)\n",
    "band.K.prior = Log_uniform_prior(lower_bound=1E-5, upper_bound=1E2)\n",
    "\n",
    "band.alpha.bounds = (-1.5, 1.0)\n",
    "band.alpha.prior = Truncated_gaussian(mu=-0.29, sigma=0.5, lower_bound=-1.5, upper_bound=1.0)\n",
    "\n",
    "band.beta.bounds = (None, -1.5)\n",
    "band.beta.prior = Truncated_gaussian(mu=-2.8,sigma=0.6, lower_bound=-7, upper_bound=-1.5)\n",
    "\n",
    "#settting up polarization model\n",
    "lp = LinearPolarization(60,16.91)\n",
    "lp.angle.set_uninformative_prior(Uniform_prior)\n",
    "lp.degree.prior = Uniform_prior(lower_bound=0.1, upper_bound=100.0)\n",
    "lp.degree.value=60.\n",
    "lp.angle.value=16.91\n",
    "\n",
    "#adding both component and defining the point source\n",
    "sc =SpectralComponent('synch', band, lp)\n",
    "ps = PointSource('GRB190530A',0,0, components = [sc])\n",
    "\n",
    "combined_model = Model(ps)\n",
    "datalist = DataList(*fluence_plugins,czti_data)"
   ]
  },
  {
   "cell_type": "code",
   "execution_count": null,
   "metadata": {},
   "outputs": [
    {
     "ename": "",
     "evalue": "",
     "output_type": "error",
     "traceback": [
      "\u001b[1;31mFailed to start the Kernel. \n",
      "\u001b[1;31mFileNotFoundError: [Errno 2] No such file or directory: 'polpy_test/polpy/examples/AstroSat_CZTI_polarization_results_GRB190530A.fits'. \n",
      "\u001b[1;31mView Jupyter <a href='command:jupyter.viewOutput'>log</a> for further details."
     ]
    }
   ],
   "source": [
    "# Setting up sampler and running bayes\n",
    "\n",
    "bayes = BayesianAnalysis(combined_model,datalist)\n",
    "bayes.set_sampler(\"multinest\")\n",
    "# wrapped = [0] * len(combined_model.free_parameters)\n",
    "# wrapped[3] = 1\n",
    "bayes.sampler.setup(n_live_points=400)#,\n",
    "                        #    resume = False,\n",
    "                        #    importance_nested_sampling=False,\n",
    "                        #    verbose=True,\n",
    "                        #    wrapped_params=wrapped,\n",
    "                        #    chain_name='chains/synch_p2')\n",
    "bayes.sample()"
   ]
  },
  {
   "cell_type": "code",
   "execution_count": null,
   "metadata": {},
   "outputs": [
    {
     "ename": "",
     "evalue": "",
     "output_type": "error",
     "traceback": [
      "\u001b[1;31mFailed to start the Kernel. \n",
      "\u001b[1;31mFileNotFoundError: [Errno 2] No such file or directory: 'polpy_test/polpy/examples/AstroSat_CZTI_polarization_results_GRB190530A.fits'. \n",
      "\u001b[1;31mView Jupyter <a href='command:jupyter.viewOutput'>log</a> for further details."
     ]
    }
   ],
   "source": [
    "\n",
    "bayes.restore_median_fit()"
   ]
  },
  {
   "cell_type": "code",
   "execution_count": null,
   "metadata": {},
   "outputs": [
    {
     "ename": "",
     "evalue": "",
     "output_type": "error",
     "traceback": [
      "\u001b[1;31mFailed to start the Kernel. \n",
      "\u001b[1;31mFileNotFoundError: [Errno 2] No such file or directory: 'polpy_test/polpy/examples/AstroSat_CZTI_polarization_results_GRB190530A.fits'. \n",
      "\u001b[1;31mView Jupyter <a href='command:jupyter.viewOutput'>log</a> for further details."
     ]
    }
   ],
   "source": [
    "fig = display_spectrum_model_counts(bayes, step=False)"
   ]
  },
  {
   "cell_type": "code",
   "execution_count": null,
   "metadata": {},
   "outputs": [
    {
     "ename": "",
     "evalue": "",
     "output_type": "error",
     "traceback": [
      "\u001b[1;31mFailed to start the Kernel. \n",
      "\u001b[1;31mFileNotFoundError: [Errno 2] No such file or directory: 'polpy_test/polpy/examples/AstroSat_CZTI_polarization_results_GRB190530A.fits'. \n",
      "\u001b[1;31mView Jupyter <a href='command:jupyter.viewOutput'>log</a> for further details."
     ]
    }
   ],
   "source": [
    "fig = display_spectrum_model_counts(bayes, min_rate=20)"
   ]
  },
  {
   "cell_type": "code",
   "execution_count": null,
   "metadata": {},
   "outputs": [
    {
     "ename": "",
     "evalue": "",
     "output_type": "error",
     "traceback": [
      "\u001b[1;31mFailed to start the Kernel. \n",
      "\u001b[1;31mFileNotFoundError: [Errno 2] No such file or directory: 'polpy_test/polpy/examples/AstroSat_CZTI_polarization_results_GRB190530A.fits'. \n",
      "\u001b[1;31mView Jupyter <a href='command:jupyter.viewOutput'>log</a> for further details."
     ]
    }
   ],
   "source": [
    "#display everthing in bayes.results\n",
    "bayes.results.display()"
   ]
  },
  {
   "cell_type": "code",
   "execution_count": null,
   "metadata": {},
   "outputs": [
    {
     "ename": "",
     "evalue": "",
     "output_type": "error",
     "traceback": [
      "\u001b[1;31mFailed to start the Kernel. \n",
      "\u001b[1;31mFileNotFoundError: [Errno 2] No such file or directory: 'polpy_test/polpy/examples/AstroSat_CZTI_polarization_results_GRB190530A.fits'. \n",
      "\u001b[1;31mView Jupyter <a href='command:jupyter.viewOutput'>log</a> for further details."
     ]
    }
   ],
   "source": [
    "cornerplot = bayes.results.corner_plot()"
   ]
  },
  {
   "cell_type": "code",
   "execution_count": null,
   "metadata": {},
   "outputs": [
    {
     "ename": "",
     "evalue": "",
     "output_type": "error",
     "traceback": [
      "\u001b[1;31mFailed to start the Kernel. \n",
      "\u001b[1;31mFileNotFoundError: [Errno 2] No such file or directory: 'polpy_test/polpy/examples/AstroSat_CZTI_polarization_results_GRB190530A.fits'. \n",
      "\u001b[1;31mView Jupyter <a href='command:jupyter.viewOutput'>log</a> for further details."
     ]
    }
   ],
   "source": [
    "modualtioncurve = czti_data.display(show_model=True)"
   ]
  }
 ],
 "metadata": {
  "kernelspec": {
   "display_name": "3ml",
   "language": "python",
   "name": "python3"
  },
  "language_info": {
   "codemirror_mode": {
    "name": "ipython",
    "version": 3
   },
   "file_extension": ".py",
   "mimetype": "text/x-python",
   "name": "python",
   "nbconvert_exporter": "python",
   "pygments_lexer": "ipython3",
   "version": "3.10.12"
  }
 },
 "nbformat": 4,
 "nbformat_minor": 2
}
